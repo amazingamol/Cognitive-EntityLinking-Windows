{
  "nbformat": 4,
  "nbformat_minor": 0,
  "metadata": {
    "colab": {
      "name": "Simple circuit 200.ipynb",
      "provenance": [],
      "collapsed_sections": [],
      "authorship_tag": "ABX9TyN7GP8VRNqG1PEjlawXpfqg",
      "include_colab_link": true
    },
    "kernelspec": {
      "name": "python3",
      "display_name": "Python 3"
    }
  },
  "cells": [
    {
      "cell_type": "markdown",
      "metadata": {
        "id": "view-in-github",
        "colab_type": "text"
      },
      "source": [
        "<a href=\"https://colab.research.google.com/github/amazingamol/Cognitive-EntityLinking-Windows/blob/master/Simple_circuit_200.ipynb\" target=\"_parent\"><img src=\"https://colab.research.google.com/assets/colab-badge.svg\" alt=\"Open In Colab\"/></a>"
      ]
    },
    {
      "cell_type": "code",
      "metadata": {
        "colab": {
          "base_uri": "https://localhost:8080/"
        },
        "id": "Z9SJFlz3sH1z",
        "outputId": "70aeff0d-0a82-451d-98d8-00a6228f351c"
      },
      "source": [
        "!pip install -r /content/requirements.txt"
      ],
      "execution_count": null,
      "outputs": [
        {
          "output_type": "stream",
          "text": [
            "Collecting pennylane==0.14.1\n",
            "\u001b[?25l  Downloading https://files.pythonhosted.org/packages/e4/f9/d3594cf0335d0fb3ec72947bbc6db204f1332588463bb5b9b43083ea35c9/PennyLane-0.14.1.tar.gz (404kB)\n",
            "\u001b[K     |████████████████████████████████| 409kB 6.4MB/s \n",
            "\u001b[?25hCollecting networkx==2.4\n",
            "\u001b[?25l  Downloading https://files.pythonhosted.org/packages/41/8f/dd6a8e85946def36e4f2c69c84219af0fa5e832b018c970e92f2ad337e45/networkx-2.4-py3-none-any.whl (1.6MB)\n",
            "\u001b[K     |████████████████████████████████| 1.6MB 22.1MB/s \n",
            "\u001b[?25hRequirement already satisfied: numpy==1.19.5 in /usr/local/lib/python3.6/dist-packages (from -r /content/requirements.txt (line 3)) (1.19.5)\n",
            "Requirement already satisfied: scipy in /usr/local/lib/python3.6/dist-packages (from pennylane==0.14.1->-r /content/requirements.txt (line 1)) (1.4.1)\n",
            "Requirement already satisfied: autograd in /usr/local/lib/python3.6/dist-packages (from pennylane==0.14.1->-r /content/requirements.txt (line 1)) (1.3)\n",
            "Requirement already satisfied: toml in /usr/local/lib/python3.6/dist-packages (from pennylane==0.14.1->-r /content/requirements.txt (line 1)) (0.10.2)\n",
            "Requirement already satisfied: appdirs in /usr/local/lib/python3.6/dist-packages (from pennylane==0.14.1->-r /content/requirements.txt (line 1)) (1.4.4)\n",
            "Collecting semantic_version==2.6\n",
            "  Downloading https://files.pythonhosted.org/packages/28/be/3a7241d731ba89063780279a5433f5971c1cf41735b64a9f874b7c3ff995/semantic_version-2.6.0-py3-none-any.whl\n",
            "Requirement already satisfied: decorator>=4.3.0 in /usr/local/lib/python3.6/dist-packages (from networkx==2.4->-r /content/requirements.txt (line 2)) (4.4.2)\n",
            "Requirement already satisfied: future>=0.15.2 in /usr/local/lib/python3.6/dist-packages (from autograd->pennylane==0.14.1->-r /content/requirements.txt (line 1)) (0.16.0)\n",
            "Building wheels for collected packages: pennylane\n",
            "  Building wheel for pennylane (setup.py) ... \u001b[?25l\u001b[?25hdone\n",
            "  Created wheel for pennylane: filename=PennyLane-0.14.1-cp36-none-any.whl size=481981 sha256=6e179e6ea03ea067a4ec223cbf74b7c61a7f08e07471068d0a54265bd5ae890a\n",
            "  Stored in directory: /root/.cache/pip/wheels/6e/a9/c9/04941d6dd58b3c111cbd1389bf63ba1b23362c137359af4626\n",
            "Successfully built pennylane\n",
            "\u001b[31mERROR: albumentations 0.1.12 has requirement imgaug<0.2.7,>=0.2.5, but you'll have imgaug 0.2.9 which is incompatible.\u001b[0m\n",
            "Installing collected packages: networkx, semantic-version, pennylane\n",
            "  Found existing installation: networkx 2.5\n",
            "    Uninstalling networkx-2.5:\n",
            "      Successfully uninstalled networkx-2.5\n",
            "Successfully installed networkx-2.4 pennylane-0.14.1 semantic-version-2.6.0\n"
          ],
          "name": "stdout"
        }
      ]
    },
    {
      "cell_type": "code",
      "metadata": {
        "id": "jHkGb5j-tvPt"
      },
      "source": [
        "#! /usr/bin/python3\r\n",
        "import pennylane as qml\r\n",
        "from pennylane import numpy as np\r\n",
        "import sys\r\n",
        "\r\n",
        "\r\n",
        "def simple_circuits_20(angle):\r\n",
        "    \"\"\"The code you write for this challenge should be completely contained within this function\r\n",
        "    between the # QHACK # comment markers.\r\n",
        "\r\n",
        "    In this function:\r\n",
        "        * Rotate the qubit around the x-axis by angle\r\n",
        "        * Measure the probability the qubit is in the zero state\r\n",
        "\r\n",
        "    Args:\r\n",
        "        angle (float): how much to rotate a state around the x-axis\r\n",
        "\r\n",
        "    Returns:\r\n",
        "        float: the probability of of the state being in the 0 ground state\r\n",
        "    \"\"\"\r\n",
        "    prob = 0.0\r\n",
        "    # QHACK #\r\n",
        "\r\n",
        "    # Step 1 : initalize a device\r\n",
        "    #num_wires = 1\r\n",
        "    #dev = qml.device('default.qubit', wires=num_wires)\r\n",
        "    dev = qml.device(\"default.qubit\", wires=1, analytic=False)\r\n",
        "\r\n",
        "    # Step 2 : Create a quantum circuit and qnode\r\n",
        "    #qml.enable_tape()\r\n",
        "    @qml.qnode(dev)\r\n",
        "  \r\n",
        "    def circuit():\r\n",
        "      qml.RX(0.5, wires=1)\r\n",
        "      qml.CNOT(wires=1)\r\n",
        "      circuit ()\r\n",
        "      return qml.expval(qml.PauliX(0))\r\n",
        "      #result = circuit ()\r\n",
        "      #result.shape\r\n",
        "      #drawer = qml.draw(circuit)\r\n",
        "      #qnode(0.56, 0.1)\r\n",
        "\r\n",
        "    #def my_quantum_function(param):\r\n",
        "    #qml.PauliZ(wires=0) # a single-wire gate\r\n",
        "    #qml.RX(param, wires=0) # a single-wire parameterized gate\r\n",
        "    #qml.CNOT(wires=[0, 1]) # a two-wire gate\r\n",
        "    # Finally we return a measurement of an operator on a wire \r\n",
        "\r\n",
        "    # Step 3 : Run the qnode\r\n",
        "    # prob = ?\r\n",
        "    return qml.probs(wires=1)\r\n",
        "    \r\n"
      ],
      "execution_count": 42,
      "outputs": []
    }
  ]
}